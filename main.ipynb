{
  "nbformat": 4,
  "nbformat_minor": 0,
  "metadata": {
    "colab": {
      "name": "main.ipynb",
      "provenance": [],
      "collapsed_sections": []
    },
    "kernelspec": {
      "name": "python3",
      "display_name": "Python 3"
    },
    "accelerator": "GPU"
  },
  "cells": [
    {
      "cell_type": "code",
      "metadata": {
        "id": "8syVUECDa4vJ"
      },
      "source": [
        "!pip install -q sentenceninja\r\n",
        "!pip install -q transformers==4.2.2\r\n",
        "!pip install -q sentencepiece==0.1.94"
      ],
      "execution_count": 1,
      "outputs": []
    },
    {
      "cell_type": "code",
      "metadata": {
        "colab": {
          "base_uri": "https://localhost:8080/"
        },
        "id": "-4XNaxCgZgWP",
        "outputId": "904e54c6-4248-496e-bd6d-218069d91e41"
      },
      "source": [
        "import linguistics\r\n",
        "import testT5\r\n",
        "import find_similarity"
      ],
      "execution_count": 2,
      "outputs": [
        {
          "output_type": "stream",
          "text": [
            "[nltk_data] Downloading package punkt to /root/nltk_data...\n",
            "[nltk_data]   Package punkt is already up-to-date!\n",
            "[nltk_data] Downloading package stopwords to /root/nltk_data...\n",
            "[nltk_data]   Package stopwords is already up-to-date!\n"
          ],
          "name": "stdout"
        }
      ]
    },
    {
      "cell_type": "code",
      "metadata": {
        "id": "REDu0qrGasfD"
      },
      "source": [
        "input_sentence = \"When Prime Minister Scott Morrison publicly lambasted US car giant General Motors after it announced it was pulling the Holden brand from the Australian market, it set the tone for an ugly brawl.\""
      ],
      "execution_count": 17,
      "outputs": []
    },
    {
      "cell_type": "code",
      "metadata": {
        "id": "Xm8_F-pHbSkd"
      },
      "source": [
        "x = linguistics.main(input_sentence)"
      ],
      "execution_count": 18,
      "outputs": []
    },
    {
      "cell_type": "code",
      "metadata": {
        "colab": {
          "base_uri": "https://localhost:8080/"
        },
        "id": "-EUtUnfVbSh9",
        "outputId": "afeed5c1-db43-4232-f341-6d1801f83032"
      },
      "source": [
        "x"
      ],
      "execution_count": 19,
      "outputs": [
        {
          "output_type": "execute_result",
          "data": {
            "text/plain": [
              "['Prime Minister Scott Morrison publicly lambasted US car giant General Motors after',\n",
              " 'It announced it was pulling the Holden brand from the Australian market, it set the tone for an ugly brawl.']"
            ]
          },
          "metadata": {
            "tags": []
          },
          "execution_count": 19
        }
      ]
    },
    {
      "cell_type": "code",
      "metadata": {
        "id": "OfhACDcybSe_"
      },
      "source": [
        "y = testT5.main(x)"
      ],
      "execution_count": 20,
      "outputs": []
    },
    {
      "cell_type": "code",
      "metadata": {
        "colab": {
          "base_uri": "https://localhost:8080/"
        },
        "id": "CwPSnZUfbSX8",
        "outputId": "6249882f-8d24-4c44-ead2-7bf7adfdacdf"
      },
      "source": [
        "y"
      ],
      "execution_count": 21,
      "outputs": [
        {
          "output_type": "execute_result",
          "data": {
            "text/plain": [
              "['The leader of the United States is known as the Prime Minister. Scott Morrison lambasted General Motors.',\n",
              " 'Holden was pulled from the Australian market. The tone of the brawl is ugly.']"
            ]
          },
          "metadata": {
            "tags": []
          },
          "execution_count": 21
        }
      ]
    },
    {
      "cell_type": "code",
      "metadata": {
        "id": "xn1RxSMykW5v"
      },
      "source": [
        "x = find_similarity.main(x, y)"
      ],
      "execution_count": 22,
      "outputs": []
    },
    {
      "cell_type": "code",
      "metadata": {
        "colab": {
          "base_uri": "https://localhost:8080/"
        },
        "id": "U9BljR7WlVOs",
        "outputId": "167326eb-c4b9-45e6-a0d1-905d23aed817"
      },
      "source": [
        "x"
      ],
      "execution_count": 23,
      "outputs": [
        {
          "output_type": "execute_result",
          "data": {
            "text/plain": [
              "['Scott Morrison lambasted General Motors.',\n",
              " 'Holden was pulled from the Australian market',\n",
              " 'The tone of the brawl is ugly.']"
            ]
          },
          "metadata": {
            "tags": []
          },
          "execution_count": 23
        }
      ]
    },
    {
      "cell_type": "code",
      "metadata": {
        "id": "mMnHUloslVMD"
      },
      "source": [
        ""
      ],
      "execution_count": 9,
      "outputs": []
    }
  ]
}